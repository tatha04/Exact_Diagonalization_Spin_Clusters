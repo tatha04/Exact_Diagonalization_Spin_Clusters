{
  "nbformat": 4,
  "nbformat_minor": 0,
  "metadata": {
    "colab": {
      "name": "Spin_clusters.ipynb",
      "provenance": [],
      "collapsed_sections": [],
      "authorship_tag": "ABX9TyPRATDiZ5ElAmBqrPcS7TEr",
      "include_colab_link": true
    },
    "kernelspec": {
      "name": "python3",
      "display_name": "Python 3"
    }
  },
  "cells": [
    {
      "cell_type": "markdown",
      "metadata": {
        "id": "view-in-github",
        "colab_type": "text"
      },
      "source": [
        "<a href=\"https://colab.research.google.com/github/tatha04/Spin_Clusters/blob/main/Spin_clusters.ipynb\" target=\"_parent\"><img src=\"https://colab.research.google.com/assets/colab-badge.svg\" alt=\"Open In Colab\"/></a>"
      ]
    },
    {
      "cell_type": "code",
      "metadata": {
        "id": "m9KvWejluGBD"
      },
      "source": [
        "import numpy as np\r\n",
        "import matplotlib.pyplot as plt"
      ],
      "execution_count": 21,
      "outputs": []
    },
    {
      "cell_type": "code",
      "metadata": {
        "id": "7-1XJplnuSAS"
      },
      "source": [
        "def dec2dual(M,N):\r\n",
        "  \"Converts an integer M into a bitstring of length N\"\r\n",
        "  binary_string = bin(M)[2:].zfill(N)\r\n",
        "  return [int(binary_string[N-1-i]) for i in range(N)]"
      ],
      "execution_count": 22,
      "outputs": []
    },
    {
      "cell_type": "code",
      "metadata": {
        "id": "QgV5A4H0unEY"
      },
      "source": [
        "class Spin_Cluster:\r\n",
        "  \"\"\"A class contains functions of a finite spin system\r\n",
        "    N = Number of spins\r\n",
        "    L = Number of links\r\n",
        "    Site1,2: Sites corresponding to links\r\n",
        "    J = Spin-exchange interactions\r\n",
        "    alpha = x,y,z component of Ising-interactions\"\r\n",
        "  \"\"\"\r\n",
        "  \r\n",
        "  def __init__(self,N,L,Site1,Site2,alpha,J):\r\n",
        "    self.N = N\r\n",
        "    self.L = L\r\n",
        "    self.site1 = Site1\r\n",
        "    self.site2 = Site2\r\n",
        "    self.alpha = alpha\r\n",
        "    self.J = J\r\n",
        "\r\n",
        "    self.init_matrix() \r\n",
        "  \r\n",
        "  def init_matrix(self):\r\n",
        "    self.H0 = np.zeros((2**N,2**N))\r\n",
        "    self.V  = np.zeros((2**N,2**N))\r\n",
        "    self.E  = np.zeros(2**N)\r\n",
        "    self.E_Deg = None\r\n",
        "    self.N_Deg = None\r\n",
        "    self.E_Deg_count = None\r\n",
        "    \r\n",
        "  def Hamiltonian(self):\r\n",
        "    \"\"\" Set up the Hamiltonian of the spin cluster\"\"\"\r\n",
        "    for i in range(2**self.N):\r\n",
        "      z = dec2dual(i,self.N)\r\n",
        "      for j in range(self.L):\r\n",
        "        p = self.site1[j]\r\n",
        "        q = self.site2[j]\r\n",
        "        i_prime = i + (1-2*z[p-1])*2**(p-1) + (1-2*z[q-1])*2**(q-1)\r\n",
        "        if (self.alpha[j] == 1):\r\n",
        "          self.H0[i_prime,i] += self.J[j]\r\n",
        "        elif (self.alpha[j] == 2):\r\n",
        "          self.H0[i_prime,i] -= self.J[j]*(2*z[p-1]-1)*(2*z[q-1]-1)\r\n",
        "        elif (alpha[j] == 3):\r\n",
        "          self.H0[i,i] += self.J[j]*(2*z[p-1]-1)*(2*z[q-1]-1)\r\n",
        "\r\n",
        "  def Eigen(self):\r\n",
        "    \"\"\" Find out the eigenvalues and eigenvalues of the Hamiltonian Matrix\"\"\"\r\n",
        "    self.E, self.V = np.linalg.eigh(self.H0)\r\n",
        "    self.E_degeneracy()\r\n",
        "\r\n",
        "  def plot_cluster(self):\r\n",
        "    \"\"\" Plots the spin cluster\"\"\"\r\n",
        "    \r\n",
        "    # Co-ordinates for cluster\r\n",
        "    cluster_x = [-1,1,1,-1,-2,2,2,-2]\r\n",
        "    cluster_y = [1,1,-1,-1,2,2,-2,-2]\r\n",
        "    fig = plt.figure()\r\n",
        "    plt.xlim(-2.5,2.5); plt.ylim(-2.5,2.5)\r\n",
        "    \r\n",
        "    ax = plt.gca()\r\n",
        "    ax.axes.xaxis.set_visible(False)\r\n",
        "    ax.axes.yaxis.set_visible(False)\r\n",
        "    link_color = [\"red\",\"green\",\"blue\"]\r\n",
        "    plt.scatter(cluster_x,cluster_y)\r\n",
        "    for i in range(self.L):\r\n",
        "        x = [cluster_x[self.site1[i]-1],cluster_x[self.site2[i]-1]]\r\n",
        "        y = [cluster_y[self.site1[i]-1],cluster_y[self.site2[i]-1]]\r\n",
        "        plt.plot(x, y, color = link_color[alpha[i]-1])\r\n",
        "\r\n",
        "  def E_degeneracy(self,acc = 1e-12):\r\n",
        "    \"\"\" Find out the degenerate energy levels along with the degeneracy of the spectrum\"\"\"\r\n",
        "    M_val = [0.0]; M_deg = [0]\r\n",
        "    M_val[0] = self.E[0]; M_deg[0] = 1; count = 0;\r\n",
        "    for i in range(1,2**N):\r\n",
        "       if (abs(self.E[i] - M_val[count]) < acc):\r\n",
        "          M_deg[count] += 1\r\n",
        "       else:\r\n",
        "          count += 1\r\n",
        "          M_val.append(self.E[i])\r\n",
        "          M_deg.append(1)\r\n",
        "    self.E_Deg = M_val; self.N_Deg = M_deg; self.E_Deg_count = count+1\r\n",
        "\r\n",
        "  def plot_Energy(self):\r\n",
        "    fig = plt.figure()\r\n",
        "    #title_string = string(\"Jx=\",string(Jx),\", Jy=\",string(Jy),\", Jz=\",string(Jz));\r\n",
        "    #plt.title(title_string);\r\n",
        "    plt.bar(self.E_Deg,self.N_Deg);\r\n",
        "\r\n",
        "  def print_Energy(self):\r\n",
        "    print('Degeneracy  Energy')\r\n",
        "    [print(f' {self.N_Deg[i]:5d}  {self.E_Deg[i]:10.4f}') for i in range(self.E_Deg_count)]\r\n",
        "    print(f'Total No. of Degenerate Energy Levels = {self.E_Deg_count:5d}')\r\n",
        "\r\n",
        "  def Thermodynamics(self):\r\n",
        "    \"\"\" Calculate the specific heat as a function of temperature\"\"\"\r\n",
        "\r\n",
        "  def Plaquette_Flux(self):\r\n",
        "    \"\"\" Define the plaquette flux operators in the original basis.\r\n",
        "    Calculate the expectation value of the flux operators in the ground state.\"\"\"\r\n"
      ],
      "execution_count": 115,
      "outputs": []
    },
    {
      "cell_type": "code",
      "metadata": {
        "id": "IdciTKl9upQv"
      },
      "source": [
        "# Parameters for a cubic Kitaev cluster\r\n",
        "N = 8; L = 12;\r\n",
        "Site1 = [1,2,3,4,5,6,7,8,1,2,3,4];\r\n",
        "Site2 = [2,3,4,1,6,7,8,5,5,6,7,8];\r\n",
        "alpha = [1,2,1,2,1,2,1,2,3,3,3,3];\r\n",
        "J     = [1,1,1,1,1,1,1,1,1,1,1,1];"
      ],
      "execution_count": 108,
      "outputs": []
    },
    {
      "cell_type": "code",
      "metadata": {
        "id": "g9KbhlakwIAz",
        "colab": {
          "base_uri": "https://localhost:8080/",
          "height": 933
        },
        "outputId": "c423cadd-9db7-4929-8bde-bd12de764e00"
      },
      "source": [
        "# Create a cubic Kitaev cluster\r\n",
        "cube = Spin_Cluster(N,L,Site1,Site2,alpha,J)\r\n",
        "# Compute the Hamiltonian of the cluster\r\n",
        "cube.Hamiltonian()\r\n",
        "# Compute the Eigenenergies and Eigenvalues of the cluster\r\n",
        "cube.Eigen()\r\n",
        "# Plot the cluster for visualization\r\n",
        "cube.plot_cluster()\r\n",
        "# Plot the energy levels\r\n",
        "cube.plot_Energy()\r\n",
        "# Print the degenerate energy levels\r\n",
        "cube.print_Energy()"
      ],
      "execution_count": 117,
      "outputs": [
        {
          "output_type": "stream",
          "text": [
            "Degeneracy  Energy\n",
            "     1     -6.9282\n",
            "     3     -6.4721\n",
            "    12     -5.8064\n",
            "     3     -5.6569\n",
            "    12     -5.4641\n",
            "     6     -4.0000\n",
            "    12     -3.4186\n",
            "    24     -2.8284\n",
            "     3     -2.4721\n",
            "    12     -1.6121\n",
            "    12     -1.4641\n",
            "    56     -0.0000\n",
            "    12      1.4641\n",
            "    12      1.6121\n",
            "     3      2.4721\n",
            "    24      2.8284\n",
            "    12      3.4186\n",
            "     6      4.0000\n",
            "    12      5.4641\n",
            "     3      5.6569\n",
            "    12      5.8064\n",
            "     3      6.4721\n",
            "     1      6.9282\n",
            "Total No. of Degenerate Energy Levels =    23\n"
          ],
          "name": "stdout"
        },
        {
          "output_type": "display_data",
          "data": {
            "image/png": "[encoded data removed]",
            "text/plain": [
              "<Figure size 432x288 with 1 Axes>"
            ]
          },
          "metadata": {
            "tags": [],
            "needs_background": "light"
          }
        },
        {
          "output_type": "display_data",
          "data": {
            "image/png": "[encoded data removed]",
            "text/plain": [
              "<Figure size 432x288 with 1 Axes>"
            ]
          },
          "metadata": {
            "tags": [],
            "needs_background": "light"
          }
        }
      ]
    }
  ]
}